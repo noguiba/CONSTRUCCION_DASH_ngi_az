{
 "cells": [
  {
   "cell_type": "markdown",
   "metadata": {
    "id": "lSm2cHFWuZJr",
    "toc": true
   },
   "source": [
    "<h1>Table of Contents<span class=\"tocSkip\"></span></h1>\n",
    "<div class=\"toc\"><ul class=\"toc-item\"></ul></div>"
   ]
  },
  {
   "cell_type": "markdown",
   "metadata": {
    "id": "E9nlu8NbuZJw"
   },
   "source": [
    "# CONSTRUCCIÓN DEL DASHBOARD"
   ]
  },
  {
   "cell_type": "markdown",
   "metadata": {
    "id": "2Oj8DgOSuZJw"
   },
   "source": [
    "# DESTINACIÓN CONTRATOS SECTOR AGRICOLA EN COLOMBIA"
   ]
  },
  {
   "cell_type": "markdown",
   "metadata": {
    "id": "f_CqHItRuZJx"
   },
   "source": [
    "**UNIVERSIDAD CENTRAL**<br>\n",
    "**MAESTRÍA EN ANALÍTICA DE DATOS**<br>\n",
    "**VISUALIZACIÓN DE DATOS**<br><br>\n",
    "**Integrantes**<br>\n",
    "- Norman Guerrero Ibarra\n",
    "- Andrea Carolina Zamora\n",
    "\n"
   ]
  },
  {
   "cell_type": "code",
   "execution_count": 1,
   "metadata": {
    "colab": {
     "base_uri": "https://localhost:8080/"
    },
    "executionInfo": {
     "elapsed": 14261,
     "status": "ok",
     "timestamp": 1621815410344,
     "user": {
      "displayName": "norman guerrero ibarra",
      "photoUrl": "",
      "userId": "07065353727248208102"
     },
     "user_tz": 300
    },
    "id": "w-HB84zpuuEh",
    "outputId": "e41a3c1a-8319-4e18-ed25-0674388f55fb"
   },
   "outputs": [
    {
     "name": "stdout",
     "output_type": "stream",
     "text": [
      "Note: you may need to restart the kernel to use updated packages.\n"
     ]
    },
    {
     "name": "stderr",
     "output_type": "stream",
     "text": [
      "\"C:\\Users\\Norman\" no se reconoce como un comando interno o externo,\n",
      "programa o archivo por lotes ejecutable.\n"
     ]
    }
   ],
   "source": [
    "pip install dash"
   ]
  },
  {
   "cell_type": "code",
   "execution_count": null,
   "metadata": {
    "id": "oHgLUiKbuuDI"
   },
   "outputs": [],
   "source": []
  },
  {
   "cell_type": "code",
   "execution_count": null,
   "metadata": {
    "colab": {
     "base_uri": "https://localhost:8080/"
    },
    "id": "-fmBFjQ1uZJy",
    "outputId": "d84ade76-563a-4138-e92a-c8525b8a7d95"
   },
   "outputs": [
    {
     "name": "stdout",
     "output_type": "stream",
     "text": [
      "Dash is running on http://127.0.0.1:8050/\n",
      "\n",
      " * Serving Flask app \"__main__\" (lazy loading)\n",
      " * Environment: production\n",
      "   WARNING: This is a development server. Do not use it in a production deployment.\n",
      "   Use a production WSGI server instead.\n",
      " * Debug mode: off\n"
     ]
    },
    {
     "name": "stderr",
     "output_type": "stream",
     "text": [
      " * Running on http://127.0.0.1:8050/ (Press CTRL+C to quit)\n",
      "127.0.0.1 - - [03/Jun/2021 19:30:15] \"\u001b[37mGET / HTTP/1.1\u001b[0m\" 200 -\n",
      "127.0.0.1 - - [03/Jun/2021 19:30:15] \"\u001b[37mGET /assets/s1.css?m=1609835983.0 HTTP/1.1\u001b[0m\" 200 -\n",
      "127.0.0.1 - - [03/Jun/2021 19:30:15] \"\u001b[37mGET /_dash-component-suites/dash_renderer/polyfill@7.v1_9_1m1618873848.8.7.min.js HTTP/1.1\u001b[0m\" 200 -\n",
      "127.0.0.1 - - [03/Jun/2021 19:30:15] \"\u001b[37mGET /_dash-component-suites/dash_renderer/react@16.v1_9_1m1618873848.14.0.min.js HTTP/1.1\u001b[0m\" 200 -\n",
      "127.0.0.1 - - [03/Jun/2021 19:30:15] \"\u001b[37mGET /assets/style.css?m=1614160187.0591977 HTTP/1.1\u001b[0m\" 200 -\n",
      "127.0.0.1 - - [03/Jun/2021 19:30:15] \"\u001b[37mGET /_dash-component-suites/dash_renderer/prop-types@15.v1_9_1m1618873848.7.2.min.js HTTP/1.1\u001b[0m\" 200 -\n",
      "127.0.0.1 - - [03/Jun/2021 19:30:15] \"\u001b[37mGET /_dash-component-suites/dash_renderer/react-dom@16.v1_9_1m1618873848.14.0.min.js HTTP/1.1\u001b[0m\" 200 -\n",
      "127.0.0.1 - - [03/Jun/2021 19:30:15] \"\u001b[37mGET /_dash-component-suites/dash_core_components/dash_core_components-shared.v1_16_0m1618874813.js HTTP/1.1\u001b[0m\" 200 -\n",
      "127.0.0.1 - - [03/Jun/2021 19:30:15] \"\u001b[37mGET /_dash-component-suites/dash_html_components/dash_html_components.v1_1_3m1618874544.min.js HTTP/1.1\u001b[0m\" 200 -\n",
      "127.0.0.1 - - [03/Jun/2021 19:30:15] \"\u001b[37mGET /_dash-component-suites/dash_core_components/dash_core_components.v1_16_0m1618874813.min.js HTTP/1.1\u001b[0m\" 200 -\n",
      "127.0.0.1 - - [03/Jun/2021 19:30:15] \"\u001b[37mGET /_dash-component-suites/dash_renderer/dash_renderer.v1_9_1m1618873848.min.js HTTP/1.1\u001b[0m\" 200 -\n",
      "127.0.0.1 - - [03/Jun/2021 19:30:15] \"\u001b[37mGET /_dash-layout HTTP/1.1\u001b[0m\" 200 -\n",
      "127.0.0.1 - - [03/Jun/2021 19:30:15] \"\u001b[37mGET /_dash-dependencies HTTP/1.1\u001b[0m\" 200 -\n",
      "127.0.0.1 - - [03/Jun/2021 19:30:15] \"\u001b[37mGET /_dash-component-suites/dash_core_components/async-dropdown.v1_16_0m1617903285.js HTTP/1.1\u001b[0m\" 200 -\n",
      "127.0.0.1 - - [03/Jun/2021 19:30:15] \"\u001b[37mGET /_dash-component-suites/dash_core_components/async-slider.v1_16_0m1617903285.js HTTP/1.1\u001b[0m\" 200 -\n",
      "127.0.0.1 - - [03/Jun/2021 19:30:15] \"\u001b[37mGET /_dash-component-suites/dash_core_components/async-graph.v1_16_0m1617903285.js HTTP/1.1\u001b[0m\" 200 -\n",
      "127.0.0.1 - - [03/Jun/2021 19:30:15] \"\u001b[37mGET /_favicon.ico?v=1.20.0 HTTP/1.1\u001b[0m\" 200 -\n",
      "127.0.0.1 - - [03/Jun/2021 19:30:16] \"\u001b[37mGET /_dash-component-suites/dash_core_components/async-plotlyjs.v1_16_0m1617903285.js HTTP/1.1\u001b[0m\" 200 -\n",
      "127.0.0.1 - - [03/Jun/2021 19:30:16] \"\u001b[37mPOST /_dash-update-component HTTP/1.1\u001b[0m\" 200 -\n",
      "127.0.0.1 - - [03/Jun/2021 19:30:21] \"\u001b[37mPOST /_dash-update-component HTTP/1.1\u001b[0m\" 200 -\n",
      "127.0.0.1 - - [03/Jun/2021 19:30:22] \"\u001b[37mPOST /_dash-update-component HTTP/1.1\u001b[0m\" 200 -\n",
      "127.0.0.1 - - [03/Jun/2021 19:30:23] \"\u001b[37mPOST /_dash-update-component HTTP/1.1\u001b[0m\" 200 -\n",
      "127.0.0.1 - - [03/Jun/2021 19:30:23] \"\u001b[37mPOST /_dash-update-component HTTP/1.1\u001b[0m\" 200 -\n",
      "127.0.0.1 - - [03/Jun/2021 19:30:24] \"\u001b[37mPOST /_dash-update-component HTTP/1.1\u001b[0m\" 200 -\n",
      "127.0.0.1 - - [03/Jun/2021 19:30:24] \"\u001b[37mPOST /_dash-update-component HTTP/1.1\u001b[0m\" 200 -\n",
      "127.0.0.1 - - [03/Jun/2021 19:30:24] \"\u001b[37mPOST /_dash-update-component HTTP/1.1\u001b[0m\" 200 -\n",
      "127.0.0.1 - - [03/Jun/2021 19:30:25] \"\u001b[37mPOST /_dash-update-component HTTP/1.1\u001b[0m\" 200 -\n",
      "127.0.0.1 - - [03/Jun/2021 19:30:26] \"\u001b[37mPOST /_dash-update-component HTTP/1.1\u001b[0m\" 200 -\n"
     ]
    }
   ],
   "source": [
    "import dash\n",
    "import dash_core_components as dcc\n",
    "import dash_html_components as html\n",
    "from dash.dependencies import Input, Output\n",
    "import plotly.graph_objs as go\n",
    "import pandas as pd\n",
    "\n",
    "\n",
    "data_agricola = pd.read_excel('data_final_agr.xlsx')\n",
    "list_ciudad = list(data_agricola['ciudad'].unique())\n",
    "\n",
    "app = dash.Dash(__name__, meta_tags=[{\"name\": \"viewport\", \"content\": \"width=device-width\"}])\n",
    "\n",
    "app.layout = html.Div([\n",
    "\n",
    "    html.Div([\n",
    "        html.Div([\n",
    "            html.Div([\n",
    "                html.H3('CONTRATOS SECTOR AGRICULTURA - COLOMBIA', style = {'margin-bottom': '5px', 'color': 'aqua'}),\n",
    "            ])\n",
    "        ], className = \"create_container1 four columns\", id = \"title\"),\n",
    "\n",
    "    ], id = \"header\", className = \"row flex-display\", style = {\"margin-bottom\": \"10px\"}),\n",
    "    \n",
    "    \n",
    "    html.Div([\n",
    "        html.Div([\n",
    "            html.P('Ciudad', className = 'fix_label', style = {'color': 'white'}),\n",
    "            dcc.Dropdown(id = 'select_ciudad',\n",
    "                         multi = False,\n",
    "                         clearable = True,\n",
    "                         disabled = False,\n",
    "                         style = {'display': True},\n",
    "                         value = 'Colombia, Bogotá, Bogotá',\n",
    "                         placeholder = 'Select Ciudad',\n",
    "                         options = [{'label': c, 'value': c}\n",
    "                                    for c in list_ciudad], className = 'dcc_compon'),\n",
    "\n",
    "            html.P('Seleccionar el año', className = 'fix_label', style = {'color': 'white', 'margin-top': '30px'}),\n",
    "            dcc.Slider(id = 'slider_year',\n",
    "                       included = True,\n",
    "                       updatemode='drag',\n",
    "                       tooltip={'always_visible': True},\n",
    "                       min = 2000,\n",
    "                       max = 2021,\n",
    "                       step = 1,\n",
    "                       value = 2000,\n",
    "                       marks = {str(yr): str(yr) for yr in range(2000, 2022, 5)},\n",
    "                       className = 'dcc_compon'),\n",
    "\n",
    "            html.P('Nombre de la Entidad', className = 'fix_label', style = {'color': 'white', 'margin-top': '30px'}),\n",
    "            dcc.Checklist(id = 'radio_items',\n",
    "                          options = [{'label': d, 'value': d} for d in sorted(data_agricola['entidad'].unique())],\n",
    "                          value=[\"ICA_NAL\"],\n",
    "                          style = {'color': 'white'}, className = 'dcc_compon'),\n",
    "\n",
    "            ], className = \"create_container2 four columns\"),\n",
    "\n",
    "\n",
    "        html.Div([\n",
    "            dcc.Graph(id = 'bubble_chart',\n",
    "                      config = {'displayModeBar': 'hover'}),\n",
    "\n",
    "        ], className = \"create_container2 eight columns\"),\n",
    "\n",
    "    ], className = \"row flex-display\"),\n",
    "\n",
    "], id= \"mainContainer\", style={\"display\": \"flex\", \"flex-direction\": \"column\"})\n",
    "\n",
    "\n",
    "@app.callback(Output('bubble_chart', 'figure'),\n",
    "              [Input('select_ciudad', 'value')],\n",
    "              [Input('slider_year', 'value')],\n",
    "              [Input('radio_items', 'value')])\n",
    "def update_graph(select_ciudad, slider_year, radio_items):\n",
    "    data_agricola1 = data_agricola.groupby(['entidad', 'ciudad', 'destino_gasto', 'año', 'poblacion', 'No_contratos/100k pop'])['No_contratos'].sum().reset_index()\n",
    "    data_agricola2 = data_agricola1[(data_agricola1['ciudad'] == select_ciudad) & (data_agricola1['año'] >= slider_year) & (data_agricola1['entidad'].isin(radio_items))]\n",
    "\n",
    "    return {\n",
    "        'data':[go.Scatter(\n",
    "                    x=data_agricola2['año'],\n",
    "                    y=data_agricola2['No_contratos'],\n",
    "                    text = data_agricola2['destino_gasto'],\n",
    "                    textposition = 'top center',\n",
    "                    mode = 'markers + text',\n",
    "                    marker = dict(\n",
    "                        size = data_agricola2['No_contratos'] / 10,\n",
    "                        color = data_agricola2['No_contratos'],\n",
    "                        colorscale = 'HSV',\n",
    "                        showscale = False,\n",
    "                        line = dict(\n",
    "                            color = 'MediumPurple',\n",
    "                            width = 2\n",
    "                        )),\n",
    "                    hoverinfo='text',\n",
    "                    hovertext=\n",
    "                    '<b>ciudad</b>: ' + data_agricola2['ciudad'].astype(str) + '<br>' +\n",
    "                    '<b>entidad</b>: ' + data_agricola2['entidad'].astype(str) + '<br>' +\n",
    "                    '<b>destino_gasto</b>: ' + data_agricola2['destino_gasto'].astype(str) + '<br>' +\n",
    "                    '<b>año</b>: ' + data_agricola2['año'].astype(str) + '<br>' +\n",
    "                    '<b>poblacion</b>: ' + [f'{x:,.0f}' for x in data_agricola2['poblacion']] + '<br>' +\n",
    "                    '<b>No_contratos/100k pop</b>: ' + [f'{x:,.0f}' for x in data_agricola2['No_contratos/100k pop']] + '<br>' +\n",
    "                    '<b>contratos</b>: ' + [f'{x:,.0f}' for x in data_agricola2['No_contratos']] + '<br>'\n",
    "\n",
    "\n",
    "              )],\n",
    "\n",
    "\n",
    "        'layout': go.Layout(\n",
    "             plot_bgcolor='#010915',\n",
    "             paper_bgcolor='#010915',\n",
    "             title={\n",
    "                'text': 'Contratos (fun: funcionamiento - Inv: Inversión - ND: No Disponible): ' + (select_ciudad),\n",
    "\n",
    "                'y': 0.96,\n",
    "                'x': 0.5,\n",
    "                'xanchor': 'center',\n",
    "                'yanchor': 'top'},\n",
    "             titlefont={\n",
    "                        'color': 'gray',\n",
    "                        'size': 20},\n",
    "\n",
    "             hovermode='x',\n",
    "             xaxis=dict(title='<b>Año</b>',\n",
    "                        tick0=0,\n",
    "                        dtick=1,\n",
    "                        color='silver',\n",
    "                        showline=True,\n",
    "                        showgrid=False,\n",
    "                        linecolor='white',\n",
    "                        linewidth=1,\n",
    "\n",
    "\n",
    "                ),\n",
    "\n",
    "             yaxis=dict(title='<b>No. de contratos</b>',\n",
    "                        color='silver',\n",
    "                        showline=False,\n",
    "                        showgrid=True,\n",
    "                        linecolor='white',\n",
    "\n",
    "                ),\n",
    "\n",
    "            legend = {\n",
    "                'orientation': 'h',\n",
    "                'bgcolor': '#010915',\n",
    "                'x': 0.5,\n",
    "                'y': 1.25,\n",
    "                'xanchor': 'center',\n",
    "                'yanchor': 'top'},\n",
    "            font = dict(\n",
    "                family = \"sans-serif\",\n",
    "                size = 12,\n",
    "                color = 'white',\n",
    "\n",
    "\n",
    "                 )\n",
    "        )\n",
    "\n",
    "    }\n",
    "\n",
    "\n",
    "if __name__ == '__main__':\n",
    "    app.run_server()"
   ]
  },
  {
   "cell_type": "markdown",
   "metadata": {
    "id": "1QkICbAsuZJ4"
   },
   "source": [
    "**Notas desarrollo**\n",
    "\n",
    "El presente cuaderno se desarrollo a partir de los análisis realizados y presentados en la carpeta **PROCES_DATOS**.\n",
    "\n",
    "La plantilla y estilos del dashboard, se tomaron de:\n",
    "\n",
    "- Create Interactive Dashboards in Python by Plotly Dash, del sitio web: https://www.udemy.com/\n",
    "- Clases visualización de datos \n"
   ]
  }
 ],
 "metadata": {
  "colab": {
   "name": "contratos_sec_agricultura.ipynb",
   "provenance": [],
   "toc_visible": true
  },
  "kernelspec": {
   "display_name": "Python 3",
   "language": "python",
   "name": "python3"
  },
  "language_info": {
   "codemirror_mode": {
    "name": "ipython",
    "version": 3
   },
   "file_extension": ".py",
   "mimetype": "text/x-python",
   "name": "python",
   "nbconvert_exporter": "python",
   "pygments_lexer": "ipython3",
   "version": "3.7.7"
  },
  "toc": {
   "base_numbering": 1,
   "nav_menu": {},
   "number_sections": true,
   "sideBar": true,
   "skip_h1_title": true,
   "title_cell": "Table of Contents",
   "title_sidebar": "Contents",
   "toc_cell": true,
   "toc_position": {},
   "toc_section_display": true,
   "toc_window_display": false
  }
 },
 "nbformat": 4,
 "nbformat_minor": 1
}
